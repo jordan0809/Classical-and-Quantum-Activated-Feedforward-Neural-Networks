{
 "cells": [
  {
   "cell_type": "code",
   "execution_count": null,
   "id": "230824d4-2838-4722-b275-4e5b9a3a5e72",
   "metadata": {},
   "outputs": [],
   "source": [
    "# Import solvers\n",
    "from Gurobi import gurobi_solve\n",
    "from Dwave import dwave_solve\n",
    "from FNN import fnn_solve\n",
    "from QCED import QCED_solve\n",
    "import numpy as np\n",
    "\n",
    "# Load the data\n",
    "import pickle\n",
    "inputFile = './QUBO_Data/15_QUBO_instances.data'\n",
    "fd = open(inputFile, 'rb')\n",
    "data = pickle.load(fd)\n",
    "\n",
    "# Example 15-variable random QUBO matrix \n",
    "Q = data[0][0]\n",
    "min_cost = data[1][0]\n",
    "\n",
    "# Gurobi\n",
    "cost, best_sol = gurobi_solve(Q)\n",
    "print(f'percentage error: {100*abs((cost-min_cost)/(min_cost))}\\n solution vector: {best_sol}')\n",
    "\n",
    "# D-Wave (API token required)\n",
    "#token = \"D-Wave API token\"\n",
    "#cost, best_sol = dwave_solve(Q,token)\n",
    "#print(f'percentage error: {100*abs((cost-min_cost)/(min_cost))}\\n solution vector: {best_sol}')\n",
    "\n",
    "# FNN\n",
    "cost, best_sol = fnn_solve([Q],7,[min_cost])\n",
    "\n",
    "# QCED \n",
    "coords = np.zeros((4,2))\n",
    "for i in range(4):\n",
    "    coords[i,0] = i%2\n",
    "    coords[i,1] = i//2\n",
    "q_resource = {\"q\":4,\"T\":1000,\"coords\":coords,\"omega_max\":0.01,\"delta_max\":1}\n",
    "\n",
    "result = QCED_solve(Q,q_resource)"
   ]
  }
 ],
 "metadata": {
  "kernelspec": {
   "display_name": "Python 3 (ipykernel)",
   "language": "python",
   "name": "python3"
  },
  "language_info": {
   "codemirror_mode": {
    "name": "ipython",
    "version": 3
   },
   "file_extension": ".py",
   "mimetype": "text/x-python",
   "name": "python",
   "nbconvert_exporter": "python",
   "pygments_lexer": "ipython3",
   "version": "3.9.19"
  }
 },
 "nbformat": 4,
 "nbformat_minor": 5
}
