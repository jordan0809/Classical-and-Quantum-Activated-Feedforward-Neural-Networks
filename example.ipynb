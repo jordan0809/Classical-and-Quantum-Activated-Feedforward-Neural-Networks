# Import solvers
from Gurobi import gurobi_solve
from Dwave import dwave_solve
from FNN import fnn_solve
from QCED import QCED_solve

# Load the data
import pickle
inputFile = './QUBO_Data/15_QUBO_instances.data'
fd = open(inputFile, 'rb')
data = pickle.load(fd)

# Example 15-variable random QUBO matrix 
Q = data[0][0]
min_cost = data[1][0]

# Gurobi
cost, best_sol = gurobi_solve(Q)
print(f'percentage error: {100*abs((cost-min_cost)/(min_cost))}\n solution vector: {best_sol}')

# D-Wave (API token required)
#token = "D-Wave API token"
#cost, best_sol = dwave_solve(Q,token)
#print(f'percentage error: {100*abs((cost-min_cost)/(min_cost))}\n solution vector: {best_sol}')

# FNN
cost, best_sol = fnn_solve([Q],7,[min_cost])

# QCED 
coords = np.zeros((4,2))
for i in range(4):
    coords[i,0] = i%2
    coords[i,1] = i//2
q_resource = {"q":4,"T":1000,"coords":coords,"omega_max":0.01,"delta_max":1}

result = QCED_solve(Q,q_resource)
